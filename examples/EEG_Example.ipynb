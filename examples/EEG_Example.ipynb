{
 "cells": [
  {
   "cell_type": "markdown",
   "metadata": {},
   "source": [
    "# Epilepsy Detection Using EEG Data\n",
    "\n",
    "> IPython notebook: <a href=\"EEG_Example.ipynb\" download=\"EEG_Example.ipynb\">download</a>\n",
    "\n",
    "In this example we'll use the [`cesium`](http://github.com/cesium-ml/cesium/) library to compare\n",
    "various techniques for epilepsy detection using a classic EEG time series dataset from\n",
    "[Andrzejak et al.](http://www.meb.uni-bonn.de/epileptologie/science/physik/eegdata.html).\n",
    "The raw data are separated into five classes: Z, O, N, F, and S; we will consider a\n",
    "three-class classification problem of distinguishing normal (Z, O), interictal (N, F), and\n",
    "ictal (S) signals.\n",
    "\n",
    "The overall workflow consists of three steps: first, we \"featurize\" the time series by\n",
    "selecting some set of mathematical functions to apply to each; next, we build some\n",
    "classification models which use these features to distinguish between classes;\n",
    "finally, we validate our models by generating predictions for some unseen\n",
    "holdout set and comparing them to the true class labels.\n",
    "\n",
    "First, we'll load the data and inspect a representative time series from each class:"
   ]
  },
  {
   "cell_type": "code",
   "execution_count": 1,
   "metadata": {},
   "outputs": [
    {
     "name": "stderr",
     "output_type": "stream",
     "text": [
      "/home/travis/virtualenv/python3.5.2/lib/python3.5/site-packages/matplotlib/font_manager.py:273: UserWarning: Matplotlib is building the font cache using fc-list. This may take a moment.\n",
      "  warnings.warn('Matplotlib is building the font cache using fc-list. This may take a moment.')\n",
      "/home/travis/virtualenv/python3.5.2/lib/python3.5/site-packages/matplotlib/font_manager.py:273: UserWarning: Matplotlib is building the font cache using fc-list. This may take a moment.\n",
      "  warnings.warn('Matplotlib is building the font cache using fc-list. This may take a moment.')\n",
      "/home/travis/virtualenv/python3.5.2/lib/python3.5/site-packages/IPython/html.py:14: ShimWarning: The `IPython.html` package has been deprecated. You should import from `notebook` instead. `IPython.html.widgets` has moved to `ipywidgets`.\n",
      "  \"`IPython.html.widgets` has moved to `ipywidgets`.\", ShimWarning)\n",
      "Loaded data from cached archive.\n"
     ]
    },
    {
     "data": {
      "image/png": "[encoded data removed]",
      "text/plain": [
       "<matplotlib.figure.Figure at 0x2b9975aaf4e0>"
      ]
     },
     "metadata": {},
     "output_type": "display_data"
    }
   ],
   "source": [
    "%matplotlib inline\n",
    "import numpy as np\n",
    "import matplotlib.pyplot as plt\n",
    "import seaborn; seaborn.set()\n",
    "\n",
    "from cesium import datasets\n",
    "\n",
    "eeg = datasets.fetch_andrzejak()\n",
    "\n",
    "# Group together classes (Z, O), (N, F), (S) as normal, interictal, ictal\n",
    "eeg[\"classes\"] = eeg[\"classes\"].astype('U16') #  allocate memory for longer class names\n",
    "eeg[\"classes\"][np.logical_or(eeg[\"classes\"]==\"Z\", eeg[\"classes\"]==\"O\")] = \"Normal\"\n",
    "eeg[\"classes\"][np.logical_or(eeg[\"classes\"]==\"N\", eeg[\"classes\"]==\"F\")] = \"Interictal\"\n",
    "eeg[\"classes\"][eeg[\"classes\"]==\"S\"] = \"Ictal\"\n",
    "\n",
    "fig, ax = plt.subplots(1, len(np.unique(eeg[\"classes\"])), sharey=True)\n",
    "for label, subplot in zip(np.unique(eeg[\"classes\"]), ax):\n",
    "    i = np.where(eeg[\"classes\"] == label)[0][0]\n",
    "    subplot.plot(eeg[\"times\"][i], eeg[\"measurements\"][i])\n",
    "    subplot.set(xlabel=\"time (s)\", ylabel=\"signal\", title=label)"
   ]
  },
  {
   "cell_type": "markdown",
   "metadata": {},
   "source": [
    "## Featurization\n",
    "Once the data is loaded, we can generate features for each time series using the\n",
    "[`cesium.featurize`](https://cesium.readthedocs.org/en/latest/api/cesium.featurize.html)\n",
    "module. The `featurize` module includes many built-in choices of features which can be applied\n",
    "for any type of time series data; here we've chosen a few generic features that do not have\n",
    "any special biological significance.\n",
    "\n",
    "By default, the time series will featurized in parallel using the\n",
    "`dask.multiprocessing` scheduler; other approaches, including serial and\n",
    "distributed approaches, can be implemented by passing in other `dask`\n",
    "schedulers as the `get` argument to `featurize_time_series`."
   ]
  },
  {
   "cell_type": "code",
   "execution_count": 2,
   "metadata": {},
   "outputs": [
    {
     "name": "stdout",
     "output_type": "stream",
     "text": [
      "<xarray.Dataset>\n",
      "Dimensions:                    (channel: 1, name: 500)\n",
      "Coordinates:\n",
      "  * name                       (name) int64 0 1 2 3 4 5 6 7 8 9 10 11 12 13 ...\n",
      "  * channel                    (channel) int64 0\n",
      "    target                     (name) <U10 'Normal' 'Normal' 'Normal' ...\n",
      "Data variables:\n",
      "    weighted_average           (name, channel) float64 -4.132 -52.44 12.71 ...\n",
      "    percent_close_to_median    (name, channel) float64 0.505 0.6405 0.516 ...\n",
      "    amplitude                  (name, channel) float64 143.5 211.5 165.0 ...\n",
      "    max_slope                  (name, channel) float64 1.111e+04 2.065e+04 ...\n",
      "    maximum                    (name, channel) float64 141.0 169.0 184.0 ...\n",
      "    std                        (name, channel) float64 40.41 48.81 47.14 ...\n",
      "    median_absolute_deviation  (name, channel) float64 28.0 32.0 31.0 31.0 ...\n",
      "    minimum                    (name, channel) float64 -146.0 -254.0 -146.0 ...\n",
      "    percent_beyond_1_std       (name, channel) float64 0.1626 0.1455 0.1523 ...\n",
      "    median                     (name, channel) float64 -4.0 -51.0 13.0 -4.0 ...\n",
      "    skew                       (name, channel) float64 0.0328 -0.09271 ...\n"
     ]
    }
   ],
   "source": [
    "from cesium import featurize\n",
    "features_to_use = ['amplitude',\n",
    "                   'percent_beyond_1_std',\n",
    "                   'maximum',\n",
    "                   'max_slope',\n",
    "                   'median',\n",
    "                   'median_absolute_deviation',\n",
    "                   'percent_close_to_median',\n",
    "                   'minimum',\n",
    "                   'skew',\n",
    "                   'std',\n",
    "                   'weighted_average']\n",
    "fset_cesium = featurize.featurize_time_series(times=eeg[\"times\"],\n",
    "                                              values=eeg[\"measurements\"],\n",
    "                                              errors=None,\n",
    "                                              features_to_use=features_to_use,\n",
    "                                              targets=eeg[\"classes\"])\n",
    "print(fset_cesium)"
   ]
  },
  {
   "cell_type": "markdown",
   "metadata": {},
   "source": [
    "The output of\n",
    "[`featurize_time_series`](https://cesium.readthedocs.org/en/latest/api/cesium.featurize.html#cesium.featurize.featurize_time_series)\n",
    "is an `xarray.Dataset` which contains all the feature information needed to train a machine\n",
    "learning model: feature values are stored as data variables, and the time series index/class\n",
    "label are stored as coordinates (a `channel` coordinate will also be used later for\n",
    "multi-channel data).\n",
    "\n",
    "### Custom feature functions\n",
    "Custom feature functions not built into `cesium` may be passed in using the\n",
    "`custom_functions` keyword, either as a dictionary `{feature_name: function}`, or as a\n",
    "[dask graph](http://dask.pydata.org/en/latest/custom-graphs.html). Functions should take\n",
    "three arrays `times, measurements, errors` as inputs; details can be found in the\n",
    "`cesium.featurize`\n",
    "[documentation](https://cesium.readthedocs.org/en/latest/api/cesium.featurize.html).\n",
    "Here we'll compute five standard features for EEG analysis provided by [Guo et al.\n",
    "(2012)](http://linkinghub.elsevier.com/retrieve/pii/S0957417411003253):"
   ]
  },
  {
   "cell_type": "code",
   "execution_count": 3,
   "metadata": {},
   "outputs": [],
   "source": [
    "import numpy as np\n",
    "import scipy.stats\n",
    "\n",
    "def mean_signal(t, m, e):\n",
    "    return np.mean(m)\n",
    "\n",
    "def std_signal(t, m, e):\n",
    "    return np.std(m)\n",
    "\n",
    "def mean_square_signal(t, m, e):\n",
    "    return np.mean(m ** 2)\n",
    "\n",
    "def abs_diffs_signal(t, m, e):\n",
    "    return np.sum(np.abs(np.diff(m)))\n",
    "\n",
    "def skew_signal(t, m, e):\n",
    "    return scipy.stats.skew(m)"
   ]
  },
  {
   "cell_type": "markdown",
   "metadata": {},
   "source": [
    "Now we'll pass the desired feature functions as a dictionary via the `custom_functions`\n",
    "keyword argument."
   ]
  },
  {
   "cell_type": "code",
   "execution_count": 4,
   "metadata": {},
   "outputs": [
    {
     "name": "stdout",
     "output_type": "stream",
     "text": [
      "<xarray.Dataset>\n",
      "Dimensions:    (channel: 1, name: 500)\n",
      "Coordinates:\n",
      "  * name       (name) int64 0 1 2 3 4 5 6 7 8 9 10 11 12 13 14 15 16 17 18 ...\n",
      "  * channel    (channel) int64 0\n",
      "    target     (name) <U10 'Normal' 'Normal' 'Normal' 'Normal' 'Normal' ...\n",
      "Data variables:\n",
      "    std        (name, channel) float64 40.41 48.81 47.14 47.07 44.91 45.02 ...\n",
      "    abs_diffs  (name, channel) float64 4.695e+04 6.112e+04 5.127e+04 ...\n",
      "    mean2      (name, channel) float64 1.65e+03 5.133e+03 2.384e+03 ...\n",
      "    mean       (name, channel) float64 -4.132 -52.44 12.71 -3.992 -18.0 ...\n",
      "    skew       (name, channel) float64 0.0328 -0.09271 -0.0041 0.06368 ...\n"
     ]
    }
   ],
   "source": [
    "guo_features = {\n",
    "    'mean': mean_signal,\n",
    "    'std': std_signal,\n",
    "    'mean2': mean_square_signal,\n",
    "    'abs_diffs': abs_diffs_signal,\n",
    "    'skew': skew_signal\n",
    "}\n",
    "\n",
    "fset_guo = featurize.featurize_time_series(times=eeg[\"times\"], values=eeg[\"measurements\"],\n",
    "                                           errors=None, targets=eeg[\"classes\"], \n",
    "                                           features_to_use=list(guo_features.keys()),\n",
    "                                           custom_functions=guo_features)\n",
    "print(fset_guo)"
   ]
  },
  {
   "cell_type": "markdown",
   "metadata": {},
   "source": [
    "### Multi-channel time series\n",
    "The EEG time series considered here consist of univariate signal measurements along a\n",
    "uniform time grid. But\n",
    "[`featurize_time_series`](https://cesium.readthedocs.org/en/latest/api/cesium.featurize.html#cesium.featurize.featurize_time_series)\n",
    "also accepts multi-channel data; to demonstrate this, we will decompose each signal into\n",
    "five frequency bands using a discrete wavelet transform as suggested by [Subasi\n",
    "(2005)](http://www.sciencedirect.com/science/article/pii/S0957417404001745), and then\n",
    "featurize each band separately using the five functions from above."
   ]
  },
  {
   "cell_type": "code",
   "execution_count": 5,
   "metadata": {},
   "outputs": [
    {
     "name": "stdout",
     "output_type": "stream",
     "text": [
      "<xarray.Dataset>\n",
      "Dimensions:    (channel: 5, name: 500)\n",
      "Coordinates:\n",
      "  * name       (name) int64 0 1 2 3 4 5 6 7 8 9 10 11 12 13 14 15 16 17 18 ...\n",
      "  * channel    (channel) int64 0 1 2 3 4\n",
      "    target     (name) <U10 'Normal' 'Normal' 'Normal' 'Normal' 'Normal' ...\n",
      "Data variables:\n",
      "    std        (name, channel) float64 112.5 72.97 48.17 25.77 10.15 119.8 ...\n",
      "    abs_diffs  (name, channel) float64 2.513e+04 1.806e+04 3.241e+04 ...\n",
      "    mean2      (name, channel) float64 1.294e+04 5.362e+03 2.321e+03 664.4 ...\n",
      "    mean       (name, channel) float64 -17.08 -6.067 -0.9793 0.1546 0.03555 ...\n",
      "    skew       (name, channel) float64 -0.0433 0.06578 0.2999 0.1239 0.1179 ...\n"
     ]
    }
   ],
   "source": [
    "import pywt\n",
    "\n",
    "n_channels = 5\n",
    "eeg[\"dwts\"] = [pywt.wavedec(m, pywt.Wavelet('db1'), level=n_channels-1)\n",
    "               for m in eeg[\"measurements\"]]\n",
    "fset_dwt = featurize.featurize_time_series(times=None, values=eeg[\"dwts\"], errors=None,\n",
    "                                           features_to_use=list(guo_features.keys()),\n",
    "                                           targets=eeg[\"classes\"],\n",
    "                                           custom_functions=guo_features)\n",
    "print(fset_dwt)"
   ]
  },
  {
   "cell_type": "markdown",
   "metadata": {},
   "source": [
    "The output featureset has the same form as before, except now the `channel` coordinate is\n",
    "used to index the features by the corresponding frequency band. The functions in\n",
    "[`cesium.build_model`](https://cesium.readthedocs.org/en/latest/api/cesium.build_model.html)\n",
    "and [`cesium.predict`](https://cesium.readthedocs.org/en/latest/api/cesium.predict.html)\n",
    "all accept featuresets from single- or multi-channel data, so no additional steps are\n",
    "required to train models or make predictions for multichannel featuresets using the\n",
    "`cesium` library.\n",
    "\n",
    "## Model Building\n",
    "Model building in `cesium` is handled by the\n",
    "[`build_model_from_featureset`](https://cesium.readthedocs.org/en/latest/api/cesium.build_model.html#cesium.build_model.build_model_from_featureset)\n",
    "function in the `cesium.build_model` submodule. The featureset output by\n",
    "[`featurize_time_series`](https://cesium.readthedocs.org/en/latest/api/cesium.featurize.html#cesium.featurize.featurize_time_series)\n",
    "contains both the feature and target information needed to train a\n",
    "model; `build_model_from_featureset` is simply a wrapper that calls the `fit` method of a\n",
    "given `scikit-learn` model with the appropriate inputs. In the case of multichannel\n",
    "features, it also handles reshaping the featureset into a (rectangular) form that is\n",
    "compatible with `scikit-learn`.\n",
    "\n",
    "For this example, we'll test a random forest classifier for the built-in `cesium` features,\n",
    "and a 3-nearest neighbors classifier for the others, as suggested by [Guo et al.\n",
    "(2012)](http://linkinghub.elsevier.com/retrieve/pii/S0957417411003253)."
   ]
  },
  {
   "cell_type": "code",
   "execution_count": 6,
   "metadata": {},
   "outputs": [],
   "source": [
    "from cesium.build_model import build_model_from_featureset\n",
    "from sklearn.ensemble import RandomForestClassifier\n",
    "from sklearn.neighbors import KNeighborsClassifier\n",
    "from sklearn.cross_validation import train_test_split\n",
    "\n",
    "train, test = train_test_split(np.arange(len(eeg[\"classes\"])), random_state=0)\n",
    "\n",
    "rfc_param_grid = {'n_estimators': [8, 16, 32, 64, 128, 256, 512, 1024]}\n",
    "model_cesium = build_model_from_featureset(fset_cesium.isel(name=train),\n",
    "                                          RandomForestClassifier(max_features='auto',\n",
    "                                                                 random_state=0),\n",
    "                                          params_to_optimize=rfc_param_grid)\n",
    "knn_param_grid = {'n_neighbors': [1, 2, 3, 4]}\n",
    "model_guo = build_model_from_featureset(fset_guo.isel(name=train),\n",
    "                                        KNeighborsClassifier(),\n",
    "                                        params_to_optimize=knn_param_grid)\n",
    "model_dwt = build_model_from_featureset(fset_dwt.isel(name=train),\n",
    "                                        KNeighborsClassifier(),\n",
    "                                        params_to_optimize=knn_param_grid)"
   ]
  },
  {
   "cell_type": "markdown",
   "metadata": {},
   "source": [
    "## Prediction\n",
    "Making predictions for new time series based on these models follows the same pattern:\n",
    "first the time series are featurized using\n",
    "[`featurize_timeseries`](https://cesium.readthedocs.org/en/latest/api/cesium.featurize.html#cesium.featurize.featurize_time_series),\n",
    "and then predictions are made based on these features using\n",
    "[`predict.model_predictions`](https://cesium.readthedocs.org/en/latest/api/cesium.predict.html#cesium.predict.model_predictions),"
   ]
  },
  {
   "cell_type": "code",
   "execution_count": 7,
   "metadata": {},
   "outputs": [
    {
     "name": "stdout",
     "output_type": "stream",
     "text": [
      "Built-in cesium features: training accuracy=99.47%, test accuracy=82.40%\n",
      "Guo et al. features: training accuracy=90.93%, test accuracy=84.80%\n",
      "Wavelet transform features: training accuracy=100.00%, test accuracy=95.20%\n"
     ]
    }
   ],
   "source": [
    "from sklearn.metrics import accuracy_score\n",
    "from cesium.predict import model_predictions\n",
    "\n",
    "preds_cesium = model_predictions(fset_cesium, model_cesium, return_probs=False)\n",
    "preds_guo = model_predictions(fset_guo, model_guo, return_probs=False)\n",
    "preds_dwt = model_predictions(fset_dwt, model_dwt, return_probs=False)\n",
    "\n",
    "print(\"Built-in cesium features: training accuracy={:.2%}, test accuracy={:.2%}\".format(\n",
    "          accuracy_score(preds_cesium.prediction.values[train], eeg[\"classes\"][train]),\n",
    "          accuracy_score(preds_cesium.prediction.values[test], eeg[\"classes\"][test])))\n",
    "print(\"Guo et al. features: training accuracy={:.2%}, test accuracy={:.2%}\".format(\n",
    "          accuracy_score(preds_guo.prediction.values[train], eeg[\"classes\"][train]),\n",
    "          accuracy_score(preds_guo.prediction.values[test], eeg[\"classes\"][test])))\n",
    "print(\"Wavelet transform features: training accuracy={:.2%}, test accuracy={:.2%}\".format(\n",
    "          accuracy_score(preds_dwt.prediction.values[train], eeg[\"classes\"][train]),\n",
    "          accuracy_score(preds_dwt.prediction.values[test], eeg[\"classes\"][test])))"
   ]
  },
  {
   "cell_type": "markdown",
   "metadata": {},
   "source": [
    "The workflow presented here is intentionally simplistic and omits many important steps\n",
    "such as feature selection, model parameter selection, etc., which may all be\n",
    "incorporated just as they would for any other `scikit-learn` analysis.\n",
    "But with essentially three function calls (`featurize_time_series`,\n",
    "`build_model_from_featureset`, and `model_predictions`), we are able to build a\n",
    "model from a set of time series and make predictions on new, unlabeled data. In\n",
    "upcoming posts we'll introduce the web frontend for `cesium` and describe how\n",
    "the same analysis can be performed in a browser with no setup or coding required."
   ]
  }
 ],
 "metadata": {},
 "nbformat": 4,
 "nbformat_minor": 1
}
